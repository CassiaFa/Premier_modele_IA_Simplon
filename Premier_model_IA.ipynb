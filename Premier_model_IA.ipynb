{
 "cells": [
  {
   "cell_type": "markdown",
   "id": "14a04b10",
   "metadata": {},
   "source": [
    "# Premier modèle IA"
   ]
  },
  {
   "cell_type": "markdown",
   "id": "78ea7ed2",
   "metadata": {},
   "source": [
    "## Regression linéaire simple"
   ]
  },
  {
   "cell_type": "markdown",
   "id": "4dcb36d8",
   "metadata": {},
   "source": [
    "### Importation des bibliothèques"
   ]
  },
  {
   "cell_type": "code",
   "execution_count": 1,
   "id": "e22818e5",
   "metadata": {},
   "outputs": [],
   "source": [
    "import numpy as np\n",
    "import pandas as pd\n",
    "import scipy.stats as stats\n",
    "import matplotlib.pyplot as plt"
   ]
  },
  {
   "cell_type": "markdown",
   "id": "2eed52d1",
   "metadata": {},
   "source": [
    "### Chargement des données"
   ]
  },
  {
   "cell_type": "code",
   "execution_count": 3,
   "id": "a6370fc5",
   "metadata": {},
   "outputs": [
    {
     "data": {
      "text/html": [
       "<div>\n",
       "<style scoped>\n",
       "    .dataframe tbody tr th:only-of-type {\n",
       "        vertical-align: middle;\n",
       "    }\n",
       "\n",
       "    .dataframe tbody tr th {\n",
       "        vertical-align: top;\n",
       "    }\n",
       "\n",
       "    .dataframe thead th {\n",
       "        text-align: right;\n",
       "    }\n",
       "</style>\n",
       "<table border=\"1\" class=\"dataframe\">\n",
       "  <thead>\n",
       "    <tr style=\"text-align: right;\">\n",
       "      <th></th>\n",
       "      <th>heure_rev</th>\n",
       "      <th>note</th>\n",
       "    </tr>\n",
       "  </thead>\n",
       "  <tbody>\n",
       "    <tr>\n",
       "      <th>0</th>\n",
       "      <td>2</td>\n",
       "      <td>10</td>\n",
       "    </tr>\n",
       "    <tr>\n",
       "      <th>1</th>\n",
       "      <td>3</td>\n",
       "      <td>12</td>\n",
       "    </tr>\n",
       "    <tr>\n",
       "      <th>2</th>\n",
       "      <td>4</td>\n",
       "      <td>20</td>\n",
       "    </tr>\n",
       "    <tr>\n",
       "      <th>3</th>\n",
       "      <td>5</td>\n",
       "      <td>22</td>\n",
       "    </tr>\n",
       "    <tr>\n",
       "      <th>4</th>\n",
       "      <td>6</td>\n",
       "      <td>21</td>\n",
       "    </tr>\n",
       "  </tbody>\n",
       "</table>\n",
       "</div>"
      ],
      "text/plain": [
       "   heure_rev  note\n",
       "0          2    10\n",
       "1          3    12\n",
       "2          4    20\n",
       "3          5    22\n",
       "4          6    21"
      ]
     },
     "execution_count": 3,
     "metadata": {},
     "output_type": "execute_result"
    }
   ],
   "source": [
    "data = pd.read_csv(\"./Data_Reg/reg_simple.csv\")\n",
    "data.head() # affichage des 5 premières lignes du dataframe data"
   ]
  },
  {
   "cell_type": "code",
   "execution_count": 7,
   "id": "b2995069",
   "metadata": {},
   "outputs": [
    {
     "data": {
      "text/plain": [
       "27"
      ]
     },
     "execution_count": 7,
     "metadata": {},
     "output_type": "execute_result"
    }
   ],
   "source": [
    "len(data)"
   ]
  },
  {
   "cell_type": "markdown",
   "id": "e59f9608",
   "metadata": {},
   "source": [
    "### Visualisation des données"
   ]
  },
  {
   "cell_type": "code",
   "execution_count": 6,
   "id": "fb938c12",
   "metadata": {},
   "outputs": [
    {
     "data": {
      "image/png": "[encoded data removed]",
      "text/plain": [
       "<Figure size 432x288 with 1 Axes>"
      ]
     },
     "metadata": {
      "needs_background": "light"
     },
     "output_type": "display_data"
    }
   ],
   "source": [
    "plt.scatter(data[\"heure_rev\"], data[\"note\"]) # Représentation en nuage de points\n",
    "plt.title(\"Représentation des données en nuages de points\") # Titre\n",
    "plt.xlabel(\"Heure révision\") # X label\n",
    "plt.ylabel(\"Notes\") # Y label\n",
    "plt.grid(True) # Activation de la grille\n",
    "plt.show()"
   ]
  },
  {
   "cell_type": "markdown",
   "id": "2ff15b4e",
   "metadata": {},
   "source": [
    "###  Création du modèle"
   ]
  },
  {
   "cell_type": "code",
   "execution_count": 43,
   "id": "fe04e2f3",
   "metadata": {},
   "outputs": [
    {
     "data": {
      "text/plain": [
       "(27, 2)"
      ]
     },
     "execution_count": 43,
     "metadata": {},
     "output_type": "execute_result"
    }
   ],
   "source": [
    "# Création de la matrice X\n",
    "x = np.array(data[\"heure_rev\"]) # Récupération des données x\n",
    "m = len(x)\n",
    "x_1 = np.ones(m) # Création de la colonne 1\n",
    "X = np.column_stack((x,x_1)) # Concatenation de x et x_1 en colonne\n",
    "X.shape"
   ]
  },
  {
   "cell_type": "code",
   "execution_count": 32,
   "id": "6a9bf2ab",
   "metadata": {},
   "outputs": [
    {
     "data": {
      "text/plain": [
       "(2, 1)"
      ]
     },
     "execution_count": 32,
     "metadata": {},
     "output_type": "execute_result"
    }
   ],
   "source": [
    "# Création de théta\n",
    "theta = np.random.randn(2,1)\n",
    "theta.shape"
   ]
  },
  {
   "cell_type": "code",
   "execution_count": 39,
   "id": "addb27e4",
   "metadata": {},
   "outputs": [],
   "source": [
    "# Création de la fonction modélisant le modèle linéaire F\n",
    "def model(X, theta):\n",
    "    return X.dot(theta)"
   ]
  },
  {
   "cell_type": "code",
   "execution_count": 40,
   "id": "92cfcad6",
   "metadata": {},
   "outputs": [
    {
     "data": {
      "text/plain": [
       "(27, 1)"
      ]
     },
     "execution_count": 40,
     "metadata": {},
     "output_type": "execute_result"
    }
   ],
   "source": [
    "F = model(X, theta)\n",
    "F.shape"
   ]
  },
  {
   "cell_type": "code",
   "execution_count": 41,
   "id": "95429f75",
   "metadata": {},
   "outputs": [
    {
     "data": {
      "image/png": "[encoded data removed]",
      "text/plain": [
       "<Figure size 432x288 with 1 Axes>"
      ]
     },
     "metadata": {
      "needs_background": "light"
     },
     "output_type": "display_data"
    }
   ],
   "source": [
    "plt.scatter(data[\"heure_rev\"], data[\"note\"]) # Représentation en nuage de points\n",
    "plt.plot(x, F, 'g')\n",
    "plt.title(\"Représentation des données en nuages de points\") # Titre\n",
    "plt.xlabel(\"Heure révision\") # X label\n",
    "plt.ylabel(\"Notes\") # Y label\n",
    "plt.grid(True) # Activation de la grille\n",
    "plt.show()"
   ]
  },
  {
   "cell_type": "markdown",
   "id": "c7a258bf",
   "metadata": {},
   "source": [
    "### Création de la fonction de coup"
   ]
  },
  {
   "cell_type": "code",
   "execution_count": 57,
   "id": "45fd2914",
   "metadata": {},
   "outputs": [
    {
     "data": {
      "text/plain": [
       "(27, 1)"
      ]
     },
     "execution_count": 57,
     "metadata": {},
     "output_type": "execute_result"
    }
   ],
   "source": [
    "# Récupétation de la target\n",
    "y = np.array(data[\"note\"]).reshape((m,1))\n",
    "y.shape"
   ]
  },
  {
   "cell_type": "code",
   "execution_count": 70,
   "id": "eee16e27",
   "metadata": {},
   "outputs": [],
   "source": [
    "def fonction_cout(X, y, theta):\n",
    "    return (1/(2*m))* np.sum(np.power((X.dot(theta) - y), 2))"
   ]
  },
  {
   "cell_type": "code",
   "execution_count": 73,
   "id": "a6211b7c",
   "metadata": {},
   "outputs": [
    {
     "data": {
      "text/plain": [
       "2799.7548333138284"
      ]
     },
     "execution_count": 73,
     "metadata": {},
     "output_type": "execute_result"
    }
   ],
   "source": [
    "J = fonction_cout(X, y, theta)\n",
    "J"
   ]
  },
  {
   "cell_type": "markdown",
   "id": "9871b632",
   "metadata": {},
   "source": [
    "### Création de la fonction gradient "
   ]
  },
  {
   "cell_type": "code",
   "execution_count": 75,
   "id": "a0bb8ac5",
   "metadata": {},
   "outputs": [],
   "source": [
    "def gradient(X, y, theta):\n",
    "    return (1/m) * np.transpose(X).dot((X.dot(theta) - y))"
   ]
  },
  {
   "cell_type": "markdown",
   "id": "457cc2b9",
   "metadata": {},
   "source": [
    "### Création de la fonction déscente de gradient"
   ]
  },
  {
   "cell_type": "code",
   "execution_count": null,
   "id": "d80011dc",
   "metadata": {},
   "outputs": [],
   "source": [
    "def descente_gradient(X, Y, theta, alpha, n_iterations):\n",
    "    "
   ]
  }
 ],
 "metadata": {
  "kernelspec": {
   "display_name": "Python 3 (ipykernel)",
   "language": "python",
   "name": "python3"
  },
  "language_info": {
   "codemirror_mode": {
    "name": "ipython",
    "version": 3
   },
   "file_extension": ".py",
   "mimetype": "text/x-python",
   "name": "python",
   "nbconvert_exporter": "python",
   "pygments_lexer": "ipython3",
   "version": "3.9.7"
  }
 },
 "nbformat": 4,
 "nbformat_minor": 5
}
